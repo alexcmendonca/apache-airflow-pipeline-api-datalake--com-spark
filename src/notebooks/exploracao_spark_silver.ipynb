{
 "cells": [
  {
   "cell_type": "markdown",
   "metadata": {},
   "source": [
    "Nova demanda no projeto: inclusão de uma nova etapa no pipeline. Além do desenvolvimento da extração de dados, será necessário implementar uma fase adicional para realizar a transformação desses dados. Essa transformação tem como objetivo gerar um novo conjunto de dados que irá apoiar o desenvolvimento de um relatório específico. Nessa nova etapa, o foco será extrair valores relacionados à data em que os tweets foram postados.\n",
    "\n",
    "Essa abordagem permitirá visualizar o desempenho da palavra-chave \"data science\" nos tweets de forma mais específica e detalhada. Resumindo, a ideia é utilizar os dados já coletados até o momento na etapa de extração e, agora, aplicar uma transformação, consolidando essas informações por dia da semana. Essa estratégia proporcionará uma análise mais refinada e direcionada ao aspecto temporal, otimizando a geração de insights para o desenvolvimento do relatório."
   ]
  },
  {
   "cell_type": "code",
   "execution_count": 2,
   "metadata": {},
   "outputs": [],
   "source": [
    "# importação biblioteca spark para exploração de dados\n",
    "from pyspark.sql import SparkSession"
   ]
  },
  {
   "cell_type": "code",
   "execution_count": 3,
   "metadata": {},
   "outputs": [
    {
     "name": "stderr",
     "output_type": "stream",
     "text": [
      "24/01/14 16:26:37 WARN Utils: Your hostname, alex-virtual-machine resolves to a loopback address: 127.0.1.1; using 192.168.112.128 instead (on interface ens33)\n",
      "24/01/14 16:26:37 WARN Utils: Set SPARK_LOCAL_IP if you need to bind to another address\n",
      "Setting default log level to \"WARN\".\n",
      "To adjust logging level use sc.setLogLevel(newLevel). For SparkR, use setLogLevel(newLevel).\n",
      "24/01/14 16:26:39 WARN NativeCodeLoader: Unable to load native-hadoop library for your platform... using builtin-java classes where applicable\n"
     ]
    }
   ],
   "source": [
    "# criando sessão spark\n",
    "spark = SparkSession\\\n",
    "    .builder\\\n",
    "    .appName(\"api_silver\")\\\n",
    "    .getOrCreate()"
   ]
  },
  {
   "cell_type": "code",
   "execution_count": 4,
   "metadata": {},
   "outputs": [
    {
     "name": "stderr",
     "output_type": "stream",
     "text": [
      "                                                                                \r"
     ]
    }
   ],
   "source": [
    "# leitura dos dados dentro da camada silver\n",
    "df_tweet = spark.read.json('/home/alex/Documents/airflow/datalake/silver/api_datascience/tweet')"
   ]
  },
  {
   "cell_type": "code",
   "execution_count": 6,
   "metadata": {},
   "outputs": [
    {
     "name": "stdout",
     "output_type": "stream",
     "text": [
      "root\n",
      " |-- author_id: string (nullable = true)\n",
      " |-- conversation_id: string (nullable = true)\n",
      " |-- created_at: string (nullable = true)\n",
      " |-- id: string (nullable = true)\n",
      " |-- like_count: long (nullable = true)\n",
      " |-- quote_count: long (nullable = true)\n",
      " |-- reply_count: long (nullable = true)\n",
      " |-- retweet_count: long (nullable = true)\n",
      " |-- text: string (nullable = true)\n",
      " |-- data_processamento: date (nullable = true)\n",
      "\n"
     ]
    }
   ],
   "source": [
    "# analisando o schema dos dados\n",
    "df_tweet.printSchema()"
   ]
  },
  {
   "cell_type": "code",
   "execution_count": 7,
   "metadata": {},
   "outputs": [],
   "source": [
    "from pyspark.sql import functions as f"
   ]
  },
  {
   "cell_type": "code",
   "execution_count": 8,
   "metadata": {},
   "outputs": [],
   "source": [
    "# criando novo dataframe com informações agregadas\n",
    "tweet_conversas = df_tweet.alias('tweet')\\\n",
    "                  .groupBy(f.to_date('created_at').alias('created_date'))\\\n",
    "                  .agg(\n",
    "                      f.countDistinct('author_id').alias('n_tweets'),\n",
    "                      f.sum('like_count').alias('n_like'),\n",
    "                      f.sum('quote_count').alias('n_quote'),\n",
    "                      f.sum('reply_count').alias('n_reply'),\n",
    "                      f.sum('retweet_count').alias('n_retweet')\n",
    "                  ).withColumn('weekday', f.date_format('created_date', 'E'))"
   ]
  },
  {
   "cell_type": "code",
   "execution_count": 9,
   "metadata": {},
   "outputs": [
    {
     "name": "stderr",
     "output_type": "stream",
     "text": [
      "                                                                                \r"
     ]
    },
    {
     "name": "stdout",
     "output_type": "stream",
     "text": [
      "+------------+--------+------+-------+-------+---------+-------+\n",
      "|created_date|n_tweets|n_like|n_quote|n_reply|n_retweet|weekday|\n",
      "+------------+--------+------+-------+-------+---------+-------+\n",
      "|  2024-01-11|      20|  4720|   3780|   4024|     3532|    Thu|\n",
      "|  2024-01-13|      10|   978|   1062|    864|      972|    Sat|\n",
      "|  2024-01-10|      10|  2280|   2000|   2016|     2388|    Wed|\n",
      "|  2024-01-12|      10|   986|    894|    992|      868|    Fri|\n",
      "+------------+--------+------+-------+-------+---------+-------+\n",
      "\n"
     ]
    }
   ],
   "source": [
    "tweet_conversas.show()"
   ]
  }
 ],
 "metadata": {
  "kernelspec": {
   "display_name": "venv",
   "language": "python",
   "name": "python3"
  },
  "language_info": {
   "codemirror_mode": {
    "name": "ipython",
    "version": 3
   },
   "file_extension": ".py",
   "mimetype": "text/x-python",
   "name": "python",
   "nbconvert_exporter": "python",
   "pygments_lexer": "ipython3",
   "version": "3.9.18"
  }
 },
 "nbformat": 4,
 "nbformat_minor": 2
}
